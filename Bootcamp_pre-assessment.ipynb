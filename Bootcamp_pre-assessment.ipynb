{
 "cells": [
  {
   "cell_type": "markdown",
   "metadata": {},
   "source": [
    "# Basic Python Section\n",
    "\n",
    "## Q1\n",
    "You have a Python list of numbers called nums_list. Write Python code that produces a new Python list which contains those numbers from nums_list that are divisible by 5 or 7."
   ]
  },
  {
   "cell_type": "code",
   "execution_count": 12,
   "metadata": {},
   "outputs": [
    {
     "name": "stdout",
     "output_type": "stream",
     "text": [
      "[1, 2, 3, 4, 5, 6, 7, 8, 9, 10, 11, 12, 13, 14, 15, 16, 17, 18, 19, 20, 21, 22, 23, 24, 25, 26, 27, 28, 29, 30, 31, 32, 33, 34, 35, 36, 37, 38, 39]\n"
     ]
    }
   ],
   "source": [
    "num_list=list(range(1,40))\n",
    "print(num_list)"
   ]
  },
  {
   "cell_type": "code",
   "execution_count": 17,
   "metadata": {},
   "outputs": [
    {
     "data": {
      "text/plain": [
       "[5, 7, 10, 14, 15, 20, 21, 25, 28, 30, 35]"
      ]
     },
     "execution_count": 17,
     "metadata": {},
     "output_type": "execute_result"
    }
   ],
   "source": [
    "def required():\n",
    "    result=list()\n",
    "    for x in num_list:\n",
    "        if(x%5==0 or x%7==0):\n",
    "            result.append(x)\n",
    "    return result\n",
    "    \n",
    "required()"
   ]
  },
  {
   "cell_type": "markdown",
   "metadata": {},
   "source": [
    "## Q2\n",
    "\n",
    "Let the following be the definition of a Python function filter_out_long. What does filter_out_long(['sun', 'joy', 'pie'], 4) return?\n",
    "def filter_out_long(in_list, thr):\n",
    "    result = [el for el in in_list if len(el)<thr]\n",
    "    if len(result)!=len(in_list):\n",
    "        return result\n",
    "    else:\n",
    "        return \"All elements are shorter than the threshold.\""
   ]
  },
  {
   "cell_type": "code",
   "execution_count": 22,
   "metadata": {},
   "outputs": [
    {
     "data": {
      "text/plain": [
       "'All elements are shorter than the threshold.'"
      ]
     },
     "execution_count": 22,
     "metadata": {},
     "output_type": "execute_result"
    }
   ],
   "source": [
    "def filter_out_long(in_list, thr):\n",
    "    result = [el for el in in_list if len(el)<thr]\n",
    "    if len(result)!=len(in_list):\n",
    "        return result\n",
    "    else:\n",
    "        return \"All elements are shorter than the threshold.\"\n",
    "filter_out_long(['sun','joy','pie'],4)"
   ]
  },
  {
   "cell_type": "markdown",
   "metadata": {},
   "source": [
    "## Q3\n",
    "\n",
    "Use Python code and write a Python function that takes three numbers as input arguments and returns the product of the smaller two numbers.\n",
    "As an example, for input numbers 3, 7 and 5, the function should return 15."
   ]
  },
  {
   "cell_type": "code",
   "execution_count": 27,
   "metadata": {},
   "outputs": [
    {
     "data": {
      "text/plain": [
       "10"
      ]
     },
     "execution_count": 27,
     "metadata": {},
     "output_type": "execute_result"
    }
   ],
   "source": [
    "def product_of_smallers(a,b,c):\n",
    "    arr = list([a,b,c])\n",
    "    minimum=min(arr)\n",
    "    arr.remove(minimum)\n",
    "    maximum = max(arr)\n",
    "    return minimum*maximum"
   ]
  },
  {
   "cell_type": "markdown",
   "metadata": {},
   "source": [
    "## Q4\n",
    "\n",
    "Use Python code and write a Python function that takes a list of words (so list of strings) as an input argument. Have the function return a dictionary whose keys are words from the input list and the values are the number of times that word appears in the input list.\n",
    "\n",
    "As an example, for input list ['sun', 'lady', 'sun', 'hello', 'hello', 'sun'], the function should return a dictionary {'sun': 3, 'lady': 1, 'hello': 2}."
   ]
  },
  {
   "cell_type": "code",
   "execution_count": 32,
   "metadata": {},
   "outputs": [
    {
     "data": {
      "text/plain": [
       "{'sun': 3, 'lady': 1, 'hello': 2}"
      ]
     },
     "execution_count": 32,
     "metadata": {},
     "output_type": "execute_result"
    }
   ],
   "source": [
    "def dictionary_function(list_of_words):\n",
    "    result = dict()\n",
    "    for word in list_of_words:\n",
    "        if(word not in result.keys()):\n",
    "            result[word]=list_of_words.count(word)\n",
    "    return result\n",
    "\n",
    "dictionary_function(['sun', 'lady', 'sun', 'hello', 'hello', 'sun'])\n",
    "    "
   ]
  },
  {
   "cell_type": "code",
   "execution_count": null,
   "metadata": {},
   "outputs": [],
   "source": []
  }
 ],
 "metadata": {
  "kernelspec": {
   "display_name": "Python 3",
   "language": "python",
   "name": "python3"
  },
  "language_info": {
   "codemirror_mode": {
    "name": "ipython",
    "version": 3
   },
   "file_extension": ".py",
   "mimetype": "text/x-python",
   "name": "python",
   "nbconvert_exporter": "python",
   "pygments_lexer": "ipython3",
   "version": "3.7.6"
  }
 },
 "nbformat": 4,
 "nbformat_minor": 4
}
